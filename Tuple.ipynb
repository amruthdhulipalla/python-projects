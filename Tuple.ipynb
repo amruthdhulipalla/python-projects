{
  "nbformat": 4,
  "nbformat_minor": 0,
  "metadata": {
    "colab": {
      "name": "Tuple.ipynb",
      "provenance": [],
      "authorship_tag": "ABX9TyOa4cjP6tGnWAAi/xF4pzyp",
      "include_colab_link": true
    },
    "kernelspec": {
      "name": "python3",
      "display_name": "Python 3"
    },
    "language_info": {
      "name": "python"
    }
  },
  "cells": [
    {
      "cell_type": "markdown",
      "metadata": {
        "id": "view-in-github",
        "colab_type": "text"
      },
      "source": [
        "<a href=\"https://colab.research.google.com/github/amruthdhulipalla/python-projects/blob/main/Tuple.ipynb\" target=\"_parent\"><img src=\"https://colab.research.google.com/assets/colab-badge.svg\" alt=\"Open In Colab\"/></a>"
      ]
    },
    {
      "cell_type": "code",
      "execution_count": 1,
      "metadata": {
        "colab": {
          "base_uri": "https://localhost:8080/"
        },
        "id": "LtnON834wnEd",
        "outputId": "4647644d-7142-4044-8283-5bbee5364ee8"
      },
      "outputs": [
        {
          "output_type": "stream",
          "name": "stdout",
          "text": [
            "('a', 'b', 'c')\n"
          ]
        }
      ],
      "source": [
        "amruth=(\"a\",\"b\",\"c\")\n",
        "print(amruth)"
      ]
    },
    {
      "cell_type": "code",
      "source": [
        "amruth=(\"ram\",\"rom\",\"usb\")\n",
        "print(len(amruth))"
      ],
      "metadata": {
        "colab": {
          "base_uri": "https://localhost:8080/"
        },
        "id": "qUw7P6b_xi0h",
        "outputId": "399715c3-c358-4803-b337-365ef01f21ec"
      },
      "execution_count": 2,
      "outputs": [
        {
          "output_type": "stream",
          "name": "stdout",
          "text": [
            "3\n"
          ]
        }
      ]
    },
    {
      "cell_type": "code",
      "source": [
        "amruth=(\"first\",\"second\",\"third\",\"fourth\",\"fifth\")\n",
        "y=list(amruth)\n",
        "y[1]=\"ten\"\n",
        "amruth=tuple(y)\n",
        "print(amruth)\n"
      ],
      "metadata": {
        "colab": {
          "base_uri": "https://localhost:8080/"
        },
        "id": "6Tvin7jXxvnI",
        "outputId": "18fdacb4-7f02-4a3a-d3f8-39063a69ee21"
      },
      "execution_count": 9,
      "outputs": [
        {
          "output_type": "stream",
          "name": "stdout",
          "text": [
            "('first', 'ten', 'third', 'fourth', 'fifth')\n"
          ]
        }
      ]
    },
    {
      "cell_type": "code",
      "source": [
        "amruth=(\"first\",\"second\",\"third\",\"fourth\",\"fifth\")\n",
        "\n",
        "print(amruth[1])\n",
        "\n"
      ],
      "metadata": {
        "colab": {
          "base_uri": "https://localhost:8080/"
        },
        "outputId": "94da7575-cb6d-4d6f-df73-29b4f76f87d2",
        "id": "C3CPo6--yqqu"
      },
      "execution_count": 8,
      "outputs": [
        {
          "output_type": "stream",
          "name": "stdout",
          "text": [
            "second\n"
          ]
        }
      ]
    },
    {
      "cell_type": "code",
      "source": [
        "amruth=(\"a\",\"b\",\"c\",\"d\",\"e\")\n",
        "print(amruth[1:3])"
      ],
      "metadata": {
        "colab": {
          "base_uri": "https://localhost:8080/"
        },
        "id": "9TWW5bQDzaBp",
        "outputId": "fc25291d-c885-4e64-b77c-7163d9ee48c1"
      },
      "execution_count": 10,
      "outputs": [
        {
          "output_type": "stream",
          "name": "stdout",
          "text": [
            "('b', 'c')\n"
          ]
        }
      ]
    },
    {
      "cell_type": "code",
      "source": [
        "amruth=(\"1\",\"2\",\"3\")\n",
        "b=list(amruth)\n",
        "b.append(\"4\")\n",
        "amruth=tuple(b)\n",
        "print(amruth)"
      ],
      "metadata": {
        "colab": {
          "base_uri": "https://localhost:8080/"
        },
        "id": "rb-vk6YZ0fMQ",
        "outputId": "210be2e1-0d2f-489a-c535-ad3050a08f2f"
      },
      "execution_count": 15,
      "outputs": [
        {
          "output_type": "stream",
          "name": "stdout",
          "text": [
            "('1', '2', '3', '4')\n"
          ]
        }
      ]
    },
    {
      "cell_type": "code",
      "source": [
        "a=(\"z\",\"d\",\"h\")\n",
        "b=(\"e\",\"s\",\"w\")\n",
        "c=list(a)\n",
        "d=list(b)\n",
        "e=c+d\n",
        "a=tuple(e)\n",
        "b=tuple(d)\n",
        "print(a)\n",
        "\n"
      ],
      "metadata": {
        "colab": {
          "base_uri": "https://localhost:8080/"
        },
        "id": "FYqoridb2ZRX",
        "outputId": "2297ebcd-b175-4028-8cff-dd3fadf9c992"
      },
      "execution_count": 25,
      "outputs": [
        {
          "output_type": "stream",
          "name": "stdout",
          "text": [
            "('z', 'd', 'h', 'e', 's', 'w')\n"
          ]
        }
      ]
    },
    {
      "cell_type": "code",
      "source": [
        "a=[\"a\",\"b\",\"c\"]\n",
        "b=[\"e\",\"f\",\"g\"]\n",
        "c=tuple(a)\n",
        "d=tuple(b)\n",
        "print(c)\n",
        "print(d)"
      ],
      "metadata": {
        "colab": {
          "base_uri": "https://localhost:8080/"
        },
        "id": "otXdeVdI3r_w",
        "outputId": "e5f32c77-6be3-4fcc-e3e2-eab477b81c1d"
      },
      "execution_count": 24,
      "outputs": [
        {
          "output_type": "stream",
          "name": "stdout",
          "text": [
            "('a', 'b', 'c')\n",
            "('e', 'f', 'g')\n"
          ]
        }
      ]
    },
    {
      "cell_type": "code",
      "source": [
        "a=(\"10\",\"15\")\n",
        "b=(\"1\",\"2\")\n",
        "c=list(a)\n",
        "d=list(b)\n",
        "e=c-d\n",
        "a=tuple(c)\n",
        "b=tuple(d)\n",
        "print(e)"
      ],
      "metadata": {
        "colab": {
          "base_uri": "https://localhost:8080/",
          "height": 235
        },
        "id": "SuHVsHt55Gtu",
        "outputId": "f6e7b267-f3dd-4d6e-fb50-a6180fb7f920"
      },
      "execution_count": 27,
      "outputs": [
        {
          "output_type": "error",
          "ename": "TypeError",
          "evalue": "ignored",
          "traceback": [
            "\u001b[0;31m---------------------------------------------------------------------------\u001b[0m",
            "\u001b[0;31mTypeError\u001b[0m                                 Traceback (most recent call last)",
            "\u001b[0;32m<ipython-input-27-64f9731cbf21>\u001b[0m in \u001b[0;36m<module>\u001b[0;34m()\u001b[0m\n\u001b[1;32m      3\u001b[0m \u001b[0mc\u001b[0m\u001b[0;34m=\u001b[0m\u001b[0mlist\u001b[0m\u001b[0;34m(\u001b[0m\u001b[0ma\u001b[0m\u001b[0;34m)\u001b[0m\u001b[0;34m\u001b[0m\u001b[0;34m\u001b[0m\u001b[0m\n\u001b[1;32m      4\u001b[0m \u001b[0md\u001b[0m\u001b[0;34m=\u001b[0m\u001b[0mlist\u001b[0m\u001b[0;34m(\u001b[0m\u001b[0mb\u001b[0m\u001b[0;34m)\u001b[0m\u001b[0;34m\u001b[0m\u001b[0;34m\u001b[0m\u001b[0m\n\u001b[0;32m----> 5\u001b[0;31m \u001b[0me\u001b[0m\u001b[0;34m=\u001b[0m\u001b[0mc\u001b[0m\u001b[0;34m-\u001b[0m\u001b[0md\u001b[0m\u001b[0;34m\u001b[0m\u001b[0;34m\u001b[0m\u001b[0m\n\u001b[0m\u001b[1;32m      6\u001b[0m \u001b[0ma\u001b[0m\u001b[0;34m=\u001b[0m\u001b[0mtuple\u001b[0m\u001b[0;34m(\u001b[0m\u001b[0mc\u001b[0m\u001b[0;34m)\u001b[0m\u001b[0;34m\u001b[0m\u001b[0;34m\u001b[0m\u001b[0m\n\u001b[1;32m      7\u001b[0m \u001b[0mb\u001b[0m\u001b[0;34m=\u001b[0m\u001b[0mtuple\u001b[0m\u001b[0;34m(\u001b[0m\u001b[0md\u001b[0m\u001b[0;34m)\u001b[0m\u001b[0;34m\u001b[0m\u001b[0;34m\u001b[0m\u001b[0m\n",
            "\u001b[0;31mTypeError\u001b[0m: unsupported operand type(s) for -: 'list' and 'list'"
          ]
        }
      ]
    },
    {
      "cell_type": "code",
      "source": [
        "a=(\"apple\",\"banana\",\"red\",\"green\")\n",
        "(amruth,*ashok,subodh)=a\n",
        "print(ashok)"
      ],
      "metadata": {
        "colab": {
          "base_uri": "https://localhost:8080/"
        },
        "id": "W-lWnNAT7Mnl",
        "outputId": "b815c7a8-69dd-42b9-c1fa-73b74d9c18ae"
      },
      "execution_count": 33,
      "outputs": [
        {
          "output_type": "stream",
          "name": "stdout",
          "text": [
            "['banana', 'red']\n"
          ]
        }
      ]
    }
  ]
}