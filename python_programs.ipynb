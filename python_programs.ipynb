{
  "nbformat": 4,
  "nbformat_minor": 0,
  "metadata": {
    "colab": {
      "name": "python programs",
      "provenance": [],
      "authorship_tag": "ABX9TyN6IP01HOufLCBpA20pgmME",
      "include_colab_link": true
    },
    "kernelspec": {
      "name": "python3",
      "display_name": "Python 3"
    },
    "language_info": {
      "name": "python"
    }
  },
  "cells": [
    {
      "cell_type": "markdown",
      "metadata": {
        "id": "view-in-github",
        "colab_type": "text"
      },
      "source": [
        "<a href=\"https://colab.research.google.com/github/amruthdhulipalla/python-projects/blob/main/python_programs.ipynb\" target=\"_parent\"><img src=\"https://colab.research.google.com/assets/colab-badge.svg\" alt=\"Open In Colab\"/></a>"
      ]
    },
    {
      "cell_type": "code",
      "execution_count": 1,
      "metadata": {
        "id": "KhoPRdZili75"
      },
      "outputs": [],
      "source": [
        "##write a python program to find power of number with recursion and without recursion(input n=2 , p=3)"
      ]
    },
    {
      "cell_type": "code",
      "source": [
        "def power(N, P):  \n",
        "  if P == 0: \n",
        "    return 1  \n",
        "  return (N*power(N, P-1))\n",
        "N = 2\n",
        "P = 3\n",
        "print(power(N, P))\n"
      ],
      "metadata": {
        "colab": {
          "base_uri": "https://localhost:8080/"
        },
        "id": "-OOdvFkFlpyj",
        "outputId": "b9233eb5-0d56-41c3-a72a-b2d27ad7b3e2"
      },
      "execution_count": 2,
      "outputs": [
        {
          "output_type": "stream",
          "name": "stdout",
          "text": [
            "8\n"
          ]
        }
      ]
    },
    {
      "cell_type": "code",
      "source": [
        "##write a program to sort tuple by total digits (input: list=[(3,4,6,723),(1,2),(134,234,34)])\n",
        "      output:[(1,2)(3,4,6,723)(34,134,234)]"
      ],
      "metadata": {
        "id": "a97GZQV6nOvp"
      },
      "execution_count": null,
      "outputs": []
    },
    {
      "cell_type": "code",
      "source": [
        "list=[(3,4,6,723),(1,2),(134,234,34)]\n",
        "list.sort()\n",
        "print(list)"
      ],
      "metadata": {
        "colab": {
          "base_uri": "https://localhost:8080/"
        },
        "id": "zxYXyux-niDx",
        "outputId": "e686430f-1e62-4c94-a1d5-295df4b8fc87"
      },
      "execution_count": 7,
      "outputs": [
        {
          "output_type": "stream",
          "name": "stdout",
          "text": [
            "[(1, 2), (3, 4, 6, 723), (134, 234, 34)]\n"
          ]
        }
      ]
    },
    {
      "cell_type": "code",
      "source": [
        "##take five subjects from the user and display the grade of the student,if average is 90-100(o),80-89(a+),70-79(a)..."
      ],
      "metadata": {
        "id": "l84kDaEOpwpc"
      },
      "execution_count": 8,
      "outputs": []
    },
    {
      "cell_type": "code",
      "source": [
        "1sub1=int(input(\"enter the marks in math\"))\n",
        "sub2=int(input(\"enter the marks in phy\"))\n",
        "sub3=int(input(\"enter the marks in chem\"))\n",
        "sub4=int(input(\"enter the marks in lang\"))\n",
        "sub5=int(input(\"enter the marks in python\"))\n",
        "avg=(sub1+sub2+sub3+sub4+sub5)/5\n",
        "if (avg>90):\n",
        "     print(\"a grade\")\n",
        "elif(avg<90 and avg>80):\n",
        "     print(\"b grade\")\n",
        "elif(avg<80 and avg>70):\n",
        "     print(\"c grade\")\n",
        "elif(avg<70 and avg>60):\n",
        "     print(\"d grade\")\n",
        "else:  \n",
        "     print(\"fail\")"
      ],
      "metadata": {
        "colab": {
          "base_uri": "https://localhost:8080/"
        },
        "id": "Vnz0yWROt9y8",
        "outputId": "a2eea753-3f91-4cf1-e9ea-97795ad59285"
      },
      "execution_count": 10,
      "outputs": [
        {
          "output_type": "stream",
          "name": "stdout",
          "text": [
            "enter the marks in math10\n",
            "enter the marks in phy10\n",
            "enter the marks in chem10\n",
            "enter the marks in lang10\n",
            "enter the marks in python10\n",
            "fail\n"
          ]
        }
      ]
    },
    {
      "cell_type": "code",
      "source": [
        "##check a given number is perfect number are not"
      ],
      "metadata": {
        "id": "w1oP_OV2zpN-"
      },
      "execution_count": 13,
      "outputs": []
    },
    {
      "cell_type": "code",
      "source": [
        " n = int(input(\"Enter any number:\"))\n",
        "sum=0\n",
        "for i in range(1, n):\n",
        "    if(n % i == 0):\n",
        "        sum = sum + i\n",
        "if (sum == n):\n",
        "    print(\"The number is Perfect number!\")\n",
        "else:\n",
        "    print(\"The number is not Perfect number!\")\n"
      ],
      "metadata": {
        "colab": {
          "base_uri": "https://localhost:8080/"
        },
        "id": "dIaJ6rBe0Fs4",
        "outputId": "061d7bc4-c1fc-475b-94c6-fef12c826dc7"
      },
      "execution_count": 12,
      "outputs": [
        {
          "output_type": "stream",
          "name": "stdout",
          "text": [
            "Enter any number:4\n",
            "The number is not Perfect number!\n"
          ]
        }
      ]
    },
    {
      "cell_type": "code",
      "source": [
        "##check a given string is a pallindrome or not"
      ],
      "metadata": {
        "id": "v-e9d7kb1t3I"
      },
      "execution_count": 14,
      "outputs": []
    },
    {
      "cell_type": "code",
      "source": [
        "def isPalindrome(s):\n",
        "  return s == s[::-1]\n",
        "s = \"malayalam\"\n",
        "ans = isPalindrome(s)\n",
        "if ans:\n",
        "  print(\"Yes\")\n",
        "else:\n",
        "  print(\"No\")\n"
      ],
      "metadata": {
        "colab": {
          "base_uri": "https://localhost:8080/"
        },
        "id": "5fkpn3w12OSO",
        "outputId": "8e318a8c-a0ec-4441-b27f-99d40c2050f0"
      },
      "execution_count": 15,
      "outputs": [
        {
          "output_type": "stream",
          "name": "stdout",
          "text": [
            "Yes\n"
          ]
        }
      ]
    }
  ]
}