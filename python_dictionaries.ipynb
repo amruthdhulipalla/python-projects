{
  "nbformat": 4,
  "nbformat_minor": 0,
  "metadata": {
    "colab": {
      "name": "python dictionaries.ipynb",
      "provenance": [],
      "collapsed_sections": [],
      "authorship_tag": "ABX9TyOQtB+o7BXEg7cxITzQKhmg",
      "include_colab_link": true
    },
    "kernelspec": {
      "name": "python3",
      "display_name": "Python 3"
    },
    "language_info": {
      "name": "python"
    }
  },
  "cells": [
    {
      "cell_type": "markdown",
      "metadata": {
        "id": "view-in-github",
        "colab_type": "text"
      },
      "source": [
        "<a href=\"https://colab.research.google.com/github/amruthdhulipalla/python-projects/blob/main/python_dictionaries.ipynb\" target=\"_parent\"><img src=\"https://colab.research.google.com/assets/colab-badge.svg\" alt=\"Open In Colab\"/></a>"
      ]
    },
    {
      "cell_type": "code",
      "execution_count": null,
      "metadata": {
        "colab": {
          "base_uri": "https://localhost:8080/"
        },
        "id": "qI7ASiM0SMOR",
        "outputId": "770c6e9c-f202-4c68-a4d0-874e1df0c7d8"
      },
      "outputs": [
        {
          "output_type": "stream",
          "name": "stdout",
          "text": [
            "{'company:fordmodel:fordyear:1974'}\n"
          ]
        }
      ],
      "source": [
        "dictionary={\"company:\" \"ford\"\n",
        "\"model:\" \"ford\"\n",
        "\"year:\" \"1974\"}\n",
        "print(dictionary)"
      ]
    },
    {
      "cell_type": "code",
      "source": [
        "thisdict = {\n",
        "  \"company\": \"Ford\",\n",
        "  \"md\": \"Mustang\",\n",
        "  \"year\": 1964\n",
        "}\n",
        "print(thisdict[\"md\"])"
      ],
      "metadata": {
        "colab": {
          "base_uri": "https://localhost:8080/"
        },
        "id": "2QKjy8hZSvzd",
        "outputId": "13947dc3-ddd5-4cc5-ef78-d7839846e437"
      },
      "execution_count": null,
      "outputs": [
        {
          "output_type": "stream",
          "name": "stdout",
          "text": [
            "Mustang\n"
          ]
        }
      ]
    },
    {
      "cell_type": "code",
      "source": [
        "amruth={\"a\" : \"12\"}\n",
        "b=amruth.values()\n",
        "print(b)"
      ],
      "metadata": {
        "colab": {
          "base_uri": "https://localhost:8080/"
        },
        "id": "JvwU_8weUwMq",
        "outputId": "ab10a529-5e83-4524-f8e8-50b9d6e863a4"
      },
      "execution_count": null,
      "outputs": [
        {
          "output_type": "stream",
          "name": "stdout",
          "text": [
            "dict_values(['12'])\n"
          ]
        }
      ]
    },
    {
      "cell_type": "code",
      "source": [
        "thisdict = {\n",
        "  \"brand\": \"Ford\",\n",
        "  \"model\": \"Mustang\",\n",
        "  \"year\": 1964,\n",
        "  \"year\": 2020} \n",
        "print(len(thisdict))"
      ],
      "metadata": {
        "id": "NJMf_9s5bMX9",
        "colab": {
          "base_uri": "https://localhost:8080/"
        },
        "outputId": "180c5db5-378a-40f3-e487-96f44e3dbb04"
      },
      "execution_count": 4,
      "outputs": [
        {
          "output_type": "stream",
          "name": "stdout",
          "text": [
            "3\n"
          ]
        }
      ]
    },
    {
      "cell_type": "code",
      "source": [
        "amruth={\n",
        "    \"amruth\" : \"red\",\n",
        "    \"dhulipalla\" : \"3\",\n",
        "\n",
        "}\n",
        "print(type(amruth))"
      ],
      "metadata": {
        "colab": {
          "base_uri": "https://localhost:8080/"
        },
        "id": "qsIYf7ibN69r",
        "outputId": "66f430d7-3ea6-4440-dab3-27e54a1a5197"
      },
      "execution_count": 5,
      "outputs": [
        {
          "output_type": "stream",
          "name": "stdout",
          "text": [
            "<class 'dict'>\n"
          ]
        }
      ]
    },
    {
      "cell_type": "code",
      "source": [
        "amruth={\n",
        "    \"amruth\" :\"dhulipalla\",\n",
        "    \"hello\" :\"how are you\",\n",
        "    \"year\" : 2004 }\n",
        "a= amruth[\"hello\"]\n",
        "print(a)\n",
        "\n"
      ],
      "metadata": {
        "colab": {
          "base_uri": "https://localhost:8080/"
        },
        "id": "4_ei72ptO5qJ",
        "outputId": "8055c812-9d19-4c7a-f971-cfe5ac759ab3"
      },
      "execution_count": 12,
      "outputs": [
        {
          "output_type": "stream",
          "name": "stdout",
          "text": [
            "how are you\n"
          ]
        }
      ]
    },
    {
      "cell_type": "code",
      "source": [
        "amruth={\n",
        "    \"amruth\" :\"dhulipalla\",\n",
        "    \"hello\" :\"how are you\",\n",
        "    \"year\" : 2004 }\n",
        "a= amruth.get[\"hello\"]\n",
        "print(a)\n"
      ],
      "metadata": {
        "id": "M2KTUaD1Qzfz"
      },
      "execution_count": null,
      "outputs": []
    }
  ]
}