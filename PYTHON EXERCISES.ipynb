{
 "cells": [
  {
   "cell_type": "markdown",
   "id": "94b1f16c",
   "metadata": {},
   "source": [
    "# AVERAGE OF THREE NUMBERS\n"
   ]
  },
  {
   "cell_type": "code",
   "execution_count": 3,
   "id": "dd113a5c",
   "metadata": {},
   "outputs": [
    {
     "name": "stdout",
     "output_type": "stream",
     "text": [
      "20.0\n",
      "<class 'float'>\n"
     ]
    }
   ],
   "source": [
    "a=10\n",
    "b=20\n",
    "c=30\n",
    "d=(a+b+c)/3\n",
    "print(d)\n",
    "print(type(d))\n"
   ]
  },
  {
   "cell_type": "markdown",
   "id": "4111ca1d",
   "metadata": {},
   "source": [
    "#multiplication of three numbers"
   ]
  },
  {
   "cell_type": "code",
   "execution_count": 5,
   "id": "e7074966",
   "metadata": {},
   "outputs": [
    {
     "name": "stdout",
     "output_type": "stream",
     "text": [
      "8\n",
      "<class 'int'>\n"
     ]
    }
   ],
   "source": [
    "a=2\n",
    "b=2\n",
    "c=2\n",
    "d=a*b*c\n",
    "print(d)\n",
    "print(type(d))"
   ]
  },
  {
   "cell_type": "code",
   "execution_count": null,
   "id": "bdfeec2e",
   "metadata": {},
   "outputs": [],
   "source": []
  }
 ],
 "metadata": {
  "kernelspec": {
   "display_name": "Python 3 (ipykernel)",
   "language": "python",
   "name": "python3"
  },
  "language_info": {
   "codemirror_mode": {
    "name": "ipython",
    "version": 3
   },
   "file_extension": ".py",
   "mimetype": "text/x-python",
   "name": "python",
   "nbconvert_exporter": "python",
   "pygments_lexer": "ipython3",
   "version": "3.9.7"
  }
 },
 "nbformat": 4,
 "nbformat_minor": 5
}
