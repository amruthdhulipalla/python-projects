{
  "cells": [
    {
      "cell_type": "markdown",
      "metadata": {
        "id": "view-in-github",
        "colab_type": "text"
      },
      "source": [
        "<a href=\"https://colab.research.google.com/github/amruthdhulipalla/python-projects/blob/main/PYTHON_EXERCISE.ipynb\" target=\"_parent\"><img src=\"https://colab.research.google.com/assets/colab-badge.svg\" alt=\"Open In Colab\"/></a>"
      ]
    },
    {
      "cell_type": "markdown",
      "id": "e9641345",
      "metadata": {
        "id": "e9641345"
      },
      "source": [
        "# Average of three no.."
      ]
    },
    {
      "cell_type": "code",
      "execution_count": null,
      "id": "e6ac1676",
      "metadata": {
        "scrolled": true,
        "id": "e6ac1676",
        "outputId": "762b30a2-55f2-4eb7-b17f-d101fca73787"
      },
      "outputs": [
        {
          "name": "stdout",
          "output_type": "stream",
          "text": [
            "20.0\n",
            "<class 'float'>\n"
          ]
        }
      ],
      "source": [
        "a=10\n",
        "b=20\n",
        "c=30\n",
        "average=(a+b+c)/3\n",
        "print(average)\n",
        "print(type(average))\n"
      ]
    },
    {
      "cell_type": "markdown",
      "id": "9a30ee61",
      "metadata": {
        "id": "9a30ee61"
      },
      "source": [
        "#Multiplication of 3 no.."
      ]
    },
    {
      "cell_type": "code",
      "execution_count": null,
      "id": "b2b2c4fc",
      "metadata": {
        "scrolled": true,
        "id": "b2b2c4fc",
        "outputId": "35b2c420-df16-47a9-adea-24978a731874"
      },
      "outputs": [
        {
          "name": "stdout",
          "output_type": "stream",
          "text": [
            "6000\n",
            "<class 'int'>\n"
          ]
        }
      ],
      "source": [
        "a=10\n",
        "b=20\n",
        "c=30\n",
        "d=a*b*c\n",
        "print(d)\n",
        "print(type(d))"
      ]
    },
    {
      "cell_type": "markdown",
      "id": "349e57d4",
      "metadata": {
        "id": "349e57d4"
      },
      "source": [
        "# Dynamic addition of 2 no..."
      ]
    },
    {
      "cell_type": "code",
      "execution_count": null,
      "id": "a82fc109",
      "metadata": {
        "id": "a82fc109",
        "outputId": "93ffb169-4b61-43a0-8f3e-6a492501c472"
      },
      "outputs": [
        {
          "name": "stdout",
          "output_type": "stream",
          "text": [
            "enter a no: 10\n",
            "enter a no: 20\n",
            "30\n",
            "<class 'int'>\n"
          ]
        }
      ],
      "source": [
        "\n",
        "a=int(input(\"enter a no: \"))\n",
        "b=int(input(\"enter a no: \"))\n",
        "addition=(a+b)\n",
        "print(addition)\n",
        "print(type(addition))\n"
      ]
    },
    {
      "cell_type": "markdown",
      "id": "be7fd457",
      "metadata": {
        "id": "be7fd457"
      },
      "source": [
        "# Dynamic multipication of 2 no..\n"
      ]
    },
    {
      "cell_type": "code",
      "execution_count": null,
      "id": "ff4e44c4",
      "metadata": {
        "id": "ff4e44c4",
        "outputId": "01a3c280-72b9-4a50-a2b7-0152b6af5bb7"
      },
      "outputs": [
        {
          "name": "stdout",
          "output_type": "stream",
          "text": [
            "enter a no: 20\n",
            "enter a no: 30\n",
            "600\n",
            "<class 'int'>\n"
          ]
        }
      ],
      "source": [
        "a=int(input(\"enter a no: \"))\n",
        "b=int(input(\"enter a no: \"))\n",
        "multiplication=(a*b)\n",
        "print(multiplication)\n",
        "print(type(multiplication))"
      ]
    },
    {
      "cell_type": "markdown",
      "id": "066ea843",
      "metadata": {
        "id": "066ea843"
      },
      "source": [
        "# Dynamic add 3 no.."
      ]
    },
    {
      "cell_type": "code",
      "execution_count": null,
      "id": "d65cb024",
      "metadata": {
        "id": "d65cb024",
        "outputId": "7d417426-a0da-41e7-c5a8-e7a7e94c759c"
      },
      "outputs": [
        {
          "name": "stdout",
          "output_type": "stream",
          "text": [
            "enter a no: 20\n",
            "enter a no: 10\n",
            "enter a no: 20\n",
            "50\n",
            "<class 'int'>\n"
          ]
        }
      ],
      "source": [
        "a=int(input(\"enter a no: \"))\n",
        "b=int(input(\"enter a no: \"))\n",
        "c=int(input(\"enter a no: \"))\n",
        "addition=(a+b+c)\n",
        "print(addition)\n",
        "print(type(addition))"
      ]
    },
    {
      "cell_type": "markdown",
      "id": "6e740549",
      "metadata": {
        "id": "6e740549"
      },
      "source": [
        "# Dynamic multi 3 no..\n"
      ]
    },
    {
      "cell_type": "code",
      "execution_count": null,
      "id": "8acb43ec",
      "metadata": {
        "id": "8acb43ec",
        "outputId": "c86777e5-dc29-43b5-bf04-3e5b0dc77938"
      },
      "outputs": [
        {
          "name": "stdout",
          "output_type": "stream",
          "text": [
            "enter a no: 10\n",
            "enter a no: 10\n",
            "enter a no: 10\n",
            "1000\n",
            "<class 'int'>\n"
          ]
        }
      ],
      "source": [
        "a=int(input(\"enter a no: \"))\n",
        "b=int(input(\"enter a no: \"))\n",
        "c=int(input(\"enter a no: \"))\n",
        "multi=(a*b*c)\n",
        "print(multi)\n",
        "print(type(multi))"
      ]
    },
    {
      "cell_type": "markdown",
      "id": "b131c6ca",
      "metadata": {
        "id": "b131c6ca"
      },
      "source": [
        "# Dynamic avg of 3 no.."
      ]
    },
    {
      "cell_type": "code",
      "execution_count": null,
      "id": "12087061",
      "metadata": {
        "id": "12087061",
        "outputId": "1ebd1588-4421-496c-a9b1-889179a03ac0"
      },
      "outputs": [
        {
          "name": "stdout",
          "output_type": "stream",
          "text": [
            "enter a no: 10\n",
            "enter a no: 10\n",
            "enter a no: 0\n",
            "6.666666666666667\n",
            "<class 'float'>\n"
          ]
        }
      ],
      "source": [
        "a=int(input(\"enter a no: \"))\n",
        "b=int(input(\"enter a no: \"))\n",
        "c=int(input(\"enter a no: \"))\n",
        "avg=(a+b+c)/3\n",
        "print(avg)\n",
        "print(type(avg))"
      ]
    },
    {
      "cell_type": "markdown",
      "id": "22dfc7d1",
      "metadata": {
        "id": "22dfc7d1"
      },
      "source": [
        "# TYPE CONVERSIONS"
      ]
    },
    {
      "cell_type": "markdown",
      "id": "7b928b1c",
      "metadata": {
        "id": "7b928b1c"
      },
      "source": [
        "## 1.INT TO FLOAT"
      ]
    },
    {
      "cell_type": "code",
      "execution_count": null,
      "id": "f53e915d",
      "metadata": {
        "id": "f53e915d",
        "outputId": "2eba9937-e39f-4666-8d3c-dc6568186f30"
      },
      "outputs": [
        {
          "name": "stdout",
          "output_type": "stream",
          "text": [
            "<class 'int'>\n",
            "<class 'float'>\n"
          ]
        }
      ],
      "source": [
        "a=10\n",
        "print(type(a))\n",
        "b=float(a)\n",
        "print(type(b))\n"
      ]
    },
    {
      "cell_type": "markdown",
      "id": "242d2be6",
      "metadata": {
        "id": "242d2be6"
      },
      "source": [
        "## 2.float to int"
      ]
    },
    {
      "cell_type": "code",
      "execution_count": null,
      "id": "54fcd821",
      "metadata": {
        "id": "54fcd821",
        "outputId": "49872860-1fdd-4fc5-b36b-6b60d8b8d531"
      },
      "outputs": [
        {
          "name": "stdout",
          "output_type": "stream",
          "text": [
            "<class 'float'>\n",
            "<class 'int'>\n",
            "10\n"
          ]
        }
      ],
      "source": [
        "a=10.32\n",
        "print(type(a))\n",
        "b=int(a)\n",
        "print(type(b))\n",
        "print(b)\n"
      ]
    },
    {
      "cell_type": "markdown",
      "id": "4e016424",
      "metadata": {
        "id": "4e016424"
      },
      "source": [
        "## 3.int to string"
      ]
    },
    {
      "cell_type": "code",
      "execution_count": null,
      "id": "34ee9b61",
      "metadata": {
        "id": "34ee9b61",
        "outputId": "1c5df117-15a6-4ce9-e8be-9583ef642183"
      },
      "outputs": [
        {
          "name": "stdout",
          "output_type": "stream",
          "text": [
            "<class 'int'>\n",
            "<class 'str'>\n",
            "10\n"
          ]
        }
      ],
      "source": [
        "a=10\n",
        "print(type(a))\n",
        "b=str(a)\n",
        "print(type(b))\n",
        "print(b)\n"
      ]
    },
    {
      "cell_type": "markdown",
      "id": "53857c00",
      "metadata": {
        "id": "53857c00"
      },
      "source": [
        "## 4.float to string"
      ]
    },
    {
      "cell_type": "code",
      "execution_count": null,
      "id": "2ceba180",
      "metadata": {
        "id": "2ceba180",
        "outputId": "9a6e8ee8-11cf-4bda-c13b-21472c02252a"
      },
      "outputs": [
        {
          "name": "stdout",
          "output_type": "stream",
          "text": [
            "<class 'float'>\n",
            "<class 'str'>\n",
            "10.33\n"
          ]
        }
      ],
      "source": [
        "a=10.33\n",
        "print(type(a))\n",
        "b=str(a)\n",
        "print(type(b))\n",
        "print(b)"
      ]
    },
    {
      "cell_type": "markdown",
      "id": "0e1be80a",
      "metadata": {
        "id": "0e1be80a"
      },
      "source": [
        "## 5.string to int"
      ]
    },
    {
      "cell_type": "code",
      "execution_count": null,
      "id": "7cf22a81",
      "metadata": {
        "id": "7cf22a81",
        "outputId": "f5bc60e9-1baf-45eb-d61f-ad1f57e70a91"
      },
      "outputs": [
        {
          "name": "stdout",
          "output_type": "stream",
          "text": [
            "<class 'str'>\n",
            "<class 'int'>\n",
            "10\n"
          ]
        }
      ],
      "source": [
        "a=\"10\"\n",
        "print(type(a))\n",
        "b=int(a)\n",
        "print(type(b))\n",
        "print(b)"
      ]
    },
    {
      "cell_type": "markdown",
      "id": "42d5f814",
      "metadata": {
        "id": "42d5f814"
      },
      "source": [
        "## Boolean"
      ]
    },
    {
      "cell_type": "code",
      "execution_count": null,
      "id": "9b38c2bd",
      "metadata": {
        "id": "9b38c2bd",
        "outputId": "b5489bff-58b8-4c4a-d9d5-312dfc78a76b"
      },
      "outputs": [
        {
          "name": "stdout",
          "output_type": "stream",
          "text": [
            "True\n"
          ]
        }
      ],
      "source": [
        "a=30\n",
        "b=20\n",
        "c=a>b\n",
        "print(bool(c))"
      ]
    },
    {
      "cell_type": "markdown",
      "id": "97581bbd",
      "metadata": {
        "id": "97581bbd"
      },
      "source": [
        "## Boolean to int"
      ]
    },
    {
      "cell_type": "code",
      "execution_count": null,
      "id": "c430647e",
      "metadata": {
        "id": "c430647e",
        "outputId": "e7cd6f14-d71e-4568-e536-84f70758a47a"
      },
      "outputs": [
        {
          "name": "stdout",
          "output_type": "stream",
          "text": [
            "<class 'bool'>\n",
            "<class 'int'>\n"
          ]
        }
      ],
      "source": [
        "a=bool(30)\n",
        "print(type(a))\n",
        "b=int(a)\n",
        "print(type(b))"
      ]
    },
    {
      "cell_type": "markdown",
      "id": "8dd028f4",
      "metadata": {
        "id": "8dd028f4"
      },
      "source": [
        "## Boolean to string"
      ]
    },
    {
      "cell_type": "code",
      "execution_count": null,
      "id": "53671188",
      "metadata": {
        "id": "53671188",
        "outputId": "97604dac-1960-44d0-927c-c38cd9efcd27"
      },
      "outputs": [
        {
          "name": "stdout",
          "output_type": "stream",
          "text": [
            "<class 'bool'>\n",
            "<class 'str'>\n"
          ]
        }
      ],
      "source": [
        "a=bool(30)\n",
        "print(type(a))\n",
        "b=str(a)\n",
        "print(type(b))"
      ]
    },
    {
      "cell_type": "markdown",
      "id": "ac0c64ef",
      "metadata": {
        "id": "ac0c64ef"
      },
      "source": [
        "# Complex"
      ]
    },
    {
      "cell_type": "code",
      "execution_count": null,
      "id": "8d9a9568",
      "metadata": {
        "id": "8d9a9568",
        "outputId": "4a04bed0-86a1-4f03-a51e-b5183911ce87"
      },
      "outputs": [
        {
          "name": "stdout",
          "output_type": "stream",
          "text": [
            "<class 'complex'>\n",
            "<class 'str'>\n"
          ]
        }
      ],
      "source": [
        "a=5+2j\n",
        "print(type(a))\n",
        "b=str(a)\n",
        "print(type(b))"
      ]
    },
    {
      "cell_type": "code",
      "execution_count": null,
      "id": "6a3ff104",
      "metadata": {
        "id": "6a3ff104"
      },
      "outputs": [],
      "source": [
        ""
      ]
    }
  ],
  "metadata": {
    "kernelspec": {
      "display_name": "Python 3 (ipykernel)",
      "language": "python",
      "name": "python3"
    },
    "language_info": {
      "codemirror_mode": {
        "name": "ipython",
        "version": 3
      },
      "file_extension": ".py",
      "mimetype": "text/x-python",
      "name": "python",
      "nbconvert_exporter": "python",
      "pygments_lexer": "ipython3",
      "version": "3.9.7"
    },
    "colab": {
      "name": "PYTHON EXERCISE.ipynb",
      "provenance": [],
      "include_colab_link": true
    }
  },
  "nbformat": 4,
  "nbformat_minor": 5
}