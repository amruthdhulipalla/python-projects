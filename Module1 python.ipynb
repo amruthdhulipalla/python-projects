{
  "nbformat": 4,
  "nbformat_minor": 0,
  "metadata": {
    "colab": {
      "name": "Module1.ipynb",
      "provenance": [],
      "collapsed_sections": [],
      "include_colab_link": true
    },
    "kernelspec": {
      "name": "python3",
      "display_name": "Python 3"
    },
    "language_info": {
      "name": "python"
    }
  },
  "cells": [
    {
      "cell_type": "markdown",
      "metadata": {
        "id": "view-in-github",
        "colab_type": "text"
      },
      "source": [
        "<a href=\"https://colab.research.google.com/github/amruthdhulipalla/python-projects/blob/main/Module1%20python.ipynb\" target=\"_parent\"><img src=\"https://colab.research.google.com/assets/colab-badge.svg\" alt=\"Open In Colab\"/></a>"
      ]
    },
    {
      "cell_type": "code",
      "execution_count": null,
      "metadata": {
        "colab": {
          "base_uri": "https://localhost:8080/"
        },
        "id": "tZhe_K-2QuYB",
        "outputId": "c0434f6e-3ca1-4e8f-d010-73807d5df3bd"
      },
      "outputs": [
        {
          "output_type": "stream",
          "name": "stdout",
          "text": [
            "2\n",
            "2\n"
          ]
        }
      ],
      "source": [
        "a=int(input())\n",
        "print(a)"
      ]
    },
    {
      "cell_type": "code",
      "source": [
        ""
      ],
      "metadata": {
        "id": "qpacNXLitpOG"
      },
      "execution_count": null,
      "outputs": []
    },
    {
      "cell_type": "code",
      "source": [
        "a=4\n",
        "b=str(a)\n",
        "print(type(b))\n",
        "print(b)"
      ],
      "metadata": {
        "colab": {
          "base_uri": "https://localhost:8080/"
        },
        "id": "Wk9XxbUYRBvW",
        "outputId": "66671a7d-2696-45a1-a792-7112fe3cc70d"
      },
      "execution_count": 6,
      "outputs": [
        {
          "output_type": "stream",
          "name": "stdout",
          "text": [
            "<class 'str'>\n",
            "4\n"
          ]
        }
      ]
    },
    {
      "cell_type": "code",
      "source": [
        "a=int(input())\n",
        "b=int(input())\n",
        "c=a+b\n",
        "d=a-b\n",
        "e=a*b\n",
        "f=a/b\n",
        "g=a%b\n",
        "print(c)\n",
        "print(d)\n",
        "print(e)\n",
        "print(f)\n",
        "print(g)\n"
      ],
      "metadata": {
        "colab": {
          "base_uri": "https://localhost:8080/"
        },
        "id": "yIlp7iQiR4OP",
        "outputId": "d8d05d6d-4df2-4851-81dd-c815c3a7674d"
      },
      "execution_count": 8,
      "outputs": [
        {
          "output_type": "stream",
          "name": "stdout",
          "text": [
            "5\n",
            "3\n",
            "8\n",
            "2\n",
            "15\n",
            "1.6666666666666667\n",
            "2\n"
          ]
        }
      ]
    },
    {
      "cell_type": "code",
      "source": [
        "a=int(input())\n",
        "b=a*60\n",
        "print(b)"
      ],
      "metadata": {
        "colab": {
          "base_uri": "https://localhost:8080/"
        },
        "id": "fnWQ9zaRSdgN",
        "outputId": "95a03c37-5e75-4bed-8f66-2fb138a5e798"
      },
      "execution_count": 9,
      "outputs": [
        {
          "output_type": "stream",
          "name": "stdout",
          "text": [
            "5\n",
            "300\n"
          ]
        }
      ]
    },
    {
      "cell_type": "code",
      "source": [
        "#calculator operation\n",
        "print (\"Enter 1 for addition\")\n",
        "print (\"Enter 2 for subtraction\")\n",
        "print (\"Enter 3 for multiplication\")\n",
        "print (\"Enter 4 for division\")\n",
        "op = int(input(\"Enter number corresponding to operation:\"))\n",
        "a=int(input(\"Enter num1: \"))\n",
        "b=int(input(\"Enter num2: \"))\n",
        "if op == 1:\n",
        "  print(a + b)\n",
        "elif op == 2:\n",
        "  print(a - b)\n",
        "elif op == 3:\n",
        "  print(a - b)\n",
        "elif op == 4:\n",
        "  print(a - b)\n",
        "else:\n",
        "  print(\"Enter a valid input\")"
      ],
      "metadata": {
        "colab": {
          "base_uri": "https://localhost:8080/"
        },
        "id": "oIzWKAESUmeV",
        "outputId": "b5f7c5d4-1daf-48e2-ba65-790873818ef1"
      },
      "execution_count": 11,
      "outputs": [
        {
          "output_type": "stream",
          "name": "stdout",
          "text": [
            "Enter 1 for addition\n",
            "Enter 2 for subtraction\n",
            "Enter 3 for multiplication\n",
            "Enter 4 for division\n",
            "Enter number corresponding to operation:1\n",
            "Enter num1: 5\n",
            "Enter num2: 5\n",
            "10\n"
          ]
        }
      ]
    },
    {
      "cell_type": "code",
      "source": [
        "print(\"Enter Marks Obtained in 5 Subjects: \")\n",
        "markOne = int(input())\n",
        "markTwo = int(input())\n",
        "markThree = int(input())\n",
        "markFour = int(input())\n",
        "markFive = int(input())\n",
        "\n",
        "tot = markOne+markTwo+markThree+markFour+markFive\n",
        "avg = tot/5\n",
        "\n",
        "if avg>=91 and avg<=100:\n",
        "    print(\"Your Grade is A1\")\n",
        "elif avg>=81 and avg<91:\n",
        "    print(\"Your Grade is A2\")\n",
        "elif avg>=71 and avg<81:\n",
        "    print(\"Your Grade is B1\")\n",
        "elif avg>=61 and avg<71:\n",
        "    print(\"Your Grade is B2\")\n",
        "elif avg>=51 and avg<61:\n",
        "    print(\"Your Grade is C1\")\n",
        "elif avg>=41 and avg<51:\n",
        "    print(\"Your Grade is C2\")\n",
        "elif avg>=33 and avg<41:\n",
        "    print(\"Your Grade is D\")\n",
        "elif avg>=21 and avg<33:\n",
        "    print(\"Your Grade is E1\")\n",
        "elif avg>=0 and avg<21:\n",
        "    print(\"Your Grade is E2\")\n",
        "else:\n",
        "    print(\"Invalid Input!\")"
      ],
      "metadata": {
        "colab": {
          "base_uri": "https://localhost:8080/"
        },
        "id": "MVYd2oYNYYit",
        "outputId": "93316634-01e9-4a63-d3c4-54b9cb1f383a"
      },
      "execution_count": 13,
      "outputs": [
        {
          "output_type": "stream",
          "name": "stdout",
          "text": [
            "Enter Marks Obtained in 5 Subjects: \n",
            "2\n",
            "3\n",
            "6\n",
            "5\n",
            "3\n",
            "Your Grade is E2\n"
          ]
        }
      ]
    },
    {
      "cell_type": "code",
      "source": [
        "a=0\n",
        "b=1\n",
        "even=[]\n",
        "odd=[]\n",
        "for x in range(100):\n",
        "  if a==x%2:\n",
        "    even.append(x)\n",
        "print(even)\n",
        "for y in range(100):\n",
        "  if b==y%2:\n",
        "    odd.append(y)\n",
        "print(odd)\n",
        "print(len(even))\n",
        "print(len(odd))\n",
        "\n"
      ],
      "metadata": {
        "colab": {
          "base_uri": "https://localhost:8080/"
        },
        "id": "gwDY_l1aghso",
        "outputId": "7f4c8793-0eff-4a34-8d3c-1216829bffe1"
      },
      "execution_count": 14,
      "outputs": [
        {
          "output_type": "stream",
          "name": "stdout",
          "text": [
            "[0, 2, 4, 6, 8, 10, 12, 14, 16, 18, 20, 22, 24, 26, 28, 30, 32, 34, 36, 38, 40, 42, 44, 46, 48, 50, 52, 54, 56, 58, 60, 62, 64, 66, 68, 70, 72, 74, 76, 78, 80, 82, 84, 86, 88, 90, 92, 94, 96, 98]\n",
            "[1, 3, 5, 7, 9, 11, 13, 15, 17, 19, 21, 23, 25, 27, 29, 31, 33, 35, 37, 39, 41, 43, 45, 47, 49, 51, 53, 55, 57, 59, 61, 63, 65, 67, 69, 71, 73, 75, 77, 79, 81, 83, 85, 87, 89, 91, 93, 95, 97, 99]\n",
            "50\n",
            "50\n"
          ]
        }
      ]
    },
    {
      "cell_type": "code",
      "source": [
        "b=1\n",
        "a=int(input(\"Enter your range\"))\n",
        "for x in range(1,a):\n",
        "  b=(b*(x+1))\n",
        "print(b)"
      ],
      "metadata": {
        "colab": {
          "base_uri": "https://localhost:8080/"
        },
        "id": "MUygZOoRlnxJ",
        "outputId": "89dbf016-246e-408a-fbdd-dfe58757d638"
      },
      "execution_count": 15,
      "outputs": [
        {
          "output_type": "stream",
          "name": "stdout",
          "text": [
            "Enter your range5\n",
            "120\n"
          ]
        }
      ]
    },
    {
      "cell_type": "code",
      "source": [
        "num1 = int(input(\"Enter 1st number: \"))\n",
        "num2 = int(input(\"Enter 2nd number: \"))\n",
        "i = 1\n",
        "while(i <= num1 and i <= num2):\n",
        "  if(num1 % i == 0 and num2 % i == 0):\n",
        "    gcd = i\n",
        "  i = i + 1\n",
        "print(\"GCD is\", gcd)"
      ],
      "metadata": {
        "colab": {
          "base_uri": "https://localhost:8080/"
        },
        "id": "0aDvKahqoo2A",
        "outputId": "f118c7f7-8f67-48bb-d467-a182090e17ca"
      },
      "execution_count": 16,
      "outputs": [
        {
          "output_type": "stream",
          "name": "stdout",
          "text": [
            "Enter 1st number: 6\n",
            "Enter 2nd number: 3\n",
            "GCD is 3\n"
          ]
        }
      ]
    },
    {
      "cell_type": "code",
      "source": [
        "n = int(input(\"Enter the nth value: \"))\n",
        "a = 0\n",
        "b = 1\n",
        "sum = 0\n",
        "\n",
        "while(sum <= n):\n",
        "     print(sum, end = \" \")\n",
        "     a = b\n",
        "     b = sum\n",
        "     sum = a + b"
      ],
      "metadata": {
        "colab": {
          "base_uri": "https://localhost:8080/"
        },
        "id": "Y3JuNJ3krkhn",
        "outputId": "e92207cf-4076-44a0-f970-70396fcb3022"
      },
      "execution_count": 17,
      "outputs": [
        {
          "output_type": "stream",
          "name": "stdout",
          "text": [
            "Enter the nth value: 5\n",
            "0 1 1 2 3 5 "
          ]
        }
      ]
    },
    {
      "cell_type": "code",
      "source": [
        "\n",
        "a=int(input(\"Enter starting range:\"))\n",
        "b=int(input(\"Enter ending range:\"))\n",
        "even=[]\n",
        "odd=[]\n",
        "co=0\n",
        "ce=0\n",
        "for i in range(a,b+1):\n",
        "  if i%2==0:\n",
        "    even.append(i)\n",
        "    ce+=1\n",
        "  else:\n",
        "    odd.append(i)\n",
        "    co+=1\n",
        "print(even,odd)\n",
        "print(\"count of odd numbers is:\",co)\n",
        "print(\"count of even numbers is:\",ce)\n",
        "\n",
        "print(\"TO FIND FACTORIAL\")\n",
        "c=int(input(\"enter number to find factorial of:\"))\n",
        "d=1\n",
        "for i in range(1,c+1):\n",
        "  d=d*i\n",
        "print(\"factorial is:\",d)\n",
        "print(\"TO COMPUTE GCD\")\n",
        "c=int(input(\"Enter first number:\"))\n",
        "d=int(input(\"Enter second number:\"))\n",
        "e=[c,d]\n",
        "e.sort()\n",
        "for i in range(1,e[0]+1):\n",
        "  if(c%i==0 and d%i==0):\n",
        "    g=i\n",
        "print(\"GCD:\",g)\n",
        "c=int(input(\"Enter up to which number you want fibonacci sequence:\"))\n",
        "d=0\n",
        "e=1\n",
        "print(d,e,end=\" \")\n",
        "for i in range(c):\n",
        "  f=d+e\n",
        "  print(f,end=\" \")\n",
        "  d=e\n",
        "  e=f"
      ],
      "metadata": {
        "id": "DDN1C56xuHnG",
        "colab": {
          "base_uri": "https://localhost:8080/"
        },
        "outputId": "c0503f3b-fad4-4846-d26f-14faec608284"
      },
      "execution_count": 18,
      "outputs": [
        {
          "output_type": "stream",
          "name": "stdout",
          "text": [
            "Enter starting range:5\n",
            "Enter ending range:6\n",
            "[6] [5]\n",
            "count of odd numbers is: 1\n",
            "count of even numbers is: 1\n",
            "TO FIND FACTORIAL\n",
            "enter number to find factorial of:6\n",
            "factorial is: 720\n",
            "TO COMPUTE GCD\n",
            "Enter first number:5\n",
            "Enter second number:6\n",
            "GCD: 1\n",
            "Enter up to which number you want fibonacci sequence:5\n",
            "0 1 1 2 3 5 8 "
          ]
        }
      ]
    },
    {
      "cell_type": "code",
      "source": [
        "num=int(input(\"Enter a number:\"))\n",
        "temp=num\n",
        "rev=0\n",
        "while(num>0):\n",
        "    dig=num%10\n",
        "    rev=rev*10+dig\n",
        "    num=num//10\n",
        "if(temp==rev):\n",
        "    print(\"The number is palindrome!\")\n",
        "else:\n",
        "    print(\"Not a palindrome!\")"
      ],
      "metadata": {
        "id": "SqfUNzFg_FLp",
        "outputId": "bb44e813-1419-447f-b1eb-711f4c6229b0",
        "colab": {
          "base_uri": "https://localhost:8080/"
        }
      },
      "execution_count": 3,
      "outputs": [
        {
          "output_type": "stream",
          "name": "stdout",
          "text": [
            "Enter a number:121\n",
            "The number is palindrome!\n"
          ]
        }
      ]
    },
    {
      "cell_type": "code",
      "source": [
        "sum=0  \n",
        "\n",
        "num=int(input(\"Enter a number:\"))  \n",
        "\n",
        "temp=num  \n",
        "\n",
        "while(num):  \n",
        "    \n",
        "    i=1  \n",
        "    \n",
        "    fact=1  \n",
        "    rem=num%10  \n",
        "    while(i<=rem):  \n",
        "        fact=fact*i   \n",
        "        i=i+1  \n",
        "    sum=sum+fact  \n",
        "    num=num//10  \n",
        "if(sum==temp):  \n",
        "    print(\"Given number is a strong number\")  \n",
        "else:  \n",
        "    print(\"Given number is not a strong number\")  "
      ],
      "metadata": {
        "id": "E9uH_a9U_q3K",
        "outputId": "9c873d5f-28cb-4e6e-bd31-a53df776013d",
        "colab": {
          "base_uri": "https://localhost:8080/"
        }
      },
      "execution_count": 4,
      "outputs": [
        {
          "output_type": "stream",
          "name": "stdout",
          "text": [
            "Enter a number:6\n",
            "Given number is not a strong number\n"
          ]
        }
      ]
    },
    {
      "cell_type": "code",
      "source": [
        "\n",
        "Number = int(input(\" Please Enter any Number: \"))\n",
        "Sum = 0\n",
        "for i in range(1, Number):\n",
        "    if(Number % i == 0):\n",
        "        Sum = Sum + i\n",
        "if (Sum == Number):\n",
        "    print(\" %d is a Perfect Number\" %Number)\n",
        "else:\n",
        "    print(\" %d is not a Perfect Number\" %Number)"
      ],
      "metadata": {
        "id": "CKSG6BXi_1-x",
        "outputId": "0d538b1b-bd8e-487b-8d15-4e9793ec58fe",
        "colab": {
          "base_uri": "https://localhost:8080/"
        }
      },
      "execution_count": 5,
      "outputs": [
        {
          "output_type": "stream",
          "name": "stdout",
          "text": [
            " Please Enter any Number: 6\n",
            " 6 is a Perfect Number\n"
          ]
        }
      ]
    }
  ]
}