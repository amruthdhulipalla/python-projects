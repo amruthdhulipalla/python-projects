{
  "nbformat": 4,
  "nbformat_minor": 0,
  "metadata": {
    "colab": {
      "name": "Untitled2.ipynb",
      "provenance": [],
      "authorship_tag": "ABX9TyNpvg/ZJClTM6TTRuBAYNtT",
      "include_colab_link": true
    },
    "kernelspec": {
      "name": "python3",
      "display_name": "Python 3"
    },
    "language_info": {
      "name": "python"
    }
  },
  "cells": [
    {
      "cell_type": "markdown",
      "metadata": {
        "id": "view-in-github",
        "colab_type": "text"
      },
      "source": [
        "<a href=\"https://colab.research.google.com/github/amruthdhulipalla/python-projects/blob/main/Untitled2.ipynb\" target=\"_parent\"><img src=\"https://colab.research.google.com/assets/colab-badge.svg\" alt=\"Open In Colab\"/></a>"
      ]
    },
    {
      "cell_type": "code",
      "execution_count": null,
      "metadata": {
        "colab": {
          "base_uri": "https://localhost:8080/"
        },
        "id": "oqjuvwNkVg8C",
        "outputId": "07b8fa35-1ef9-4c6f-849c-2fbc5d5c81e9"
      },
      "outputs": [
        {
          "output_type": "stream",
          "name": "stdout",
          "text": [
            "champions\n"
          ]
        }
      ],
      "source": [
        "def world():\n",
        "      print(\"champions\")\n",
        "world()\n"
      ]
    },
    {
      "cell_type": "code",
      "source": [
        "def amruth(dhulipalla):\n",
        "  print(dhulipalla+\" amruth\")\n",
        "amruth(\" hello \")\n",
        "amruth(\" hy \")"
      ],
      "metadata": {
        "colab": {
          "base_uri": "https://localhost:8080/"
        },
        "id": "ZD5dok3EWCom",
        "outputId": "a53dffbd-4baa-4d77-e207-d8eb0d0f086b"
      },
      "execution_count": null,
      "outputs": [
        {
          "output_type": "stream",
          "name": "stdout",
          "text": [
            " hello  amruth\n",
            " hy  amruth\n"
          ]
        }
      ]
    },
    {
      "cell_type": "code",
      "source": [
        "def voting(g,n,a):\n",
        " print(g+\"male\")\n",
        " print(n+\"amruth\")\n",
        " print(a+\"18\")\n",
        "voting(\"gender: \",\"name: \",\"age: \" )"
      ],
      "metadata": {
        "colab": {
          "base_uri": "https://localhost:8080/"
        },
        "id": "hueFbO1LV5dJ",
        "outputId": "74cb6b79-030f-48cd-e9f6-9f4c2516774e"
      },
      "execution_count": null,
      "outputs": [
        {
          "output_type": "stream",
          "name": "stdout",
          "text": [
            "gender: male\n",
            "name: amruth\n",
            "age: 18\n"
          ]
        }
      ]
    },
    {
      "cell_type": "code",
      "source": [
        "n=int(input(\"enter the number:\"))\n",
        "def calculator():\n",
        "\n",
        "  b=10\n",
        "  c=5\n",
        "  if n == 1:\n",
        "    d=b+c\n",
        "    print(d)\n",
        "  else:\n",
        "    e=b-c\n",
        "    print(e)\n",
        "calculator()"
      ],
      "metadata": {
        "colab": {
          "base_uri": "https://localhost:8080/"
        },
        "id": "YRwj72PUaqhv",
        "outputId": "99ed3fd3-a310-4e85-d901-57b90797fd17"
      },
      "execution_count": null,
      "outputs": [
        {
          "output_type": "stream",
          "name": "stdout",
          "text": [
            "enter the number:2\n",
            "5\n"
          ]
        }
      ]
    },
    {
      "cell_type": "code",
      "source": [
        ""
      ],
      "metadata": {
        "id": "PjMvNmAec4FT"
      },
      "execution_count": null,
      "outputs": []
    }
  ]
}