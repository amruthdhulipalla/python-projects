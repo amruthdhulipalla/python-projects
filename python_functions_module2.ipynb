{
  "nbformat": 4,
  "nbformat_minor": 0,
  "metadata": {
    "colab": {
      "name": "python functions module2.ipynb",
      "provenance": [],
      "collapsed_sections": [],
      "authorship_tag": "ABX9TyPNNnu9cvaIqWCOFhNYilmf",
      "include_colab_link": true
    },
    "kernelspec": {
      "name": "python3",
      "display_name": "Python 3"
    },
    "language_info": {
      "name": "python"
    }
  },
  "cells": [
    {
      "cell_type": "markdown",
      "metadata": {
        "id": "view-in-github",
        "colab_type": "text"
      },
      "source": [
        "<a href=\"https://colab.research.google.com/github/amruthdhulipalla/python-projects/blob/main/python_functions_module2.ipynb\" target=\"_parent\"><img src=\"https://colab.research.google.com/assets/colab-badge.svg\" alt=\"Open In Colab\"/></a>"
      ]
    },
    {
      "cell_type": "code",
      "source": [
        "def nCr(amruth,dhulipalla):\n",
        "   return(fact(amruth)/(fact(dhulipalla)\n",
        "                 *fact(amruth-dhulipalla)))\n",
        "amruth=int(input(\"\"))\n",
        "dhulipalla=int(input(\"\"))\n",
        "def fact(amruth):\n",
        "    res=1\n",
        "    for i in range(2,amruth+1):\n",
        "      res =res*1\n",
        "    return res\n",
        "print(int(nCr(amruth,dhulipalla)))"
      ],
      "metadata": {
        "colab": {
          "base_uri": "https://localhost:8080/"
        },
        "id": "x_3o620pkr6n",
        "outputId": "e260e875-ad7c-413d-a310-68aa8ab31f2c"
      },
      "execution_count": 1,
      "outputs": [
        {
          "output_type": "stream",
          "name": "stdout",
          "text": [
            "5\n",
            "7\n",
            "1\n"
          ]
        }
      ]
    },
    {
      "cell_type": "code",
      "source": [
        "def list_diff(list1, list2): \n",
        "\treturn (list(set(list1) - set(list2))) \n",
        "\n",
        "\n",
        "list1 = [11, 16,41,26] \n",
        "list2 = [26, 41, 16] \n",
        "\n",
        "\n",
        "print(list_diff(list1, list2)) \n"
      ],
      "metadata": {
        "colab": {
          "base_uri": "https://localhost:8080/"
        },
        "outputId": "679bd1ae-68e1-4e3d-f7cf-b88b3f165b6c",
        "id": "D8XyQDlcqkcx"
      },
      "execution_count": null,
      "outputs": [
        {
          "output_type": "stream",
          "name": "stdout",
          "text": [
            "[11]\n"
          ]
        }
      ]
    },
    {
      "cell_type": "code",
      "source": [
        "def Diff(li1, li2):\n",
        "    li_dif = [i for i in li1 + li2 if i not in li1 or i not in li2]\n",
        "    return li_dif\n",
        "li1 = [26, 15, 18]\n",
        "li2 = [25, 40, 35]\n",
        "li3 = Diff(li1, li2)\n",
        "print(li3)\n",
        "\n"
      ],
      "metadata": {
        "colab": {
          "base_uri": "https://localhost:8080/"
        },
        "id": "WhBdEbcaw1ph",
        "outputId": "b22c78d4-eb24-40e9-a7e1-e5a7586f82e4"
      },
      "execution_count": null,
      "outputs": [
        {
          "output_type": "stream",
          "name": "stdout",
          "text": [
            "[26, 15, 18, 25, 40, 35]\n"
          ]
        }
      ]
    },
    {
      "cell_type": "markdown",
      "source": [
        "##to print first largest AND SECOND LARGEST IN LIST\n"
      ],
      "metadata": {
        "id": "buytnuld_N0J"
      }
    },
    {
      "cell_type": "code",
      "source": [
        "def find_len(amruth):\n",
        "     length = len(amruth)\n",
        "     amruth.sort()\n",
        "     print(\"Largest element is:\", amruth[length-1])\n",
        "     print(\"Smallest element is:\", amruth[0])\n",
        "     print(\"Second Largest element is:\", amruth[length-2])\n",
        "     print(\"Second Smallest element is:\", amruth[1])\n",
        "amruth=[1,25,63]\n",
        "Largest = find_len(amruth)"
      ],
      "metadata": {
        "colab": {
          "base_uri": "https://localhost:8080/"
        },
        "id": "yTzmfGPC_VC-",
        "outputId": "89e006e4-8203-4042-98d0-2b6b70d9b090"
      },
      "execution_count": null,
      "outputs": [
        {
          "output_type": "stream",
          "name": "stdout",
          "text": [
            "Largest element is: 63\n",
            "Smallest element is: 1\n",
            "Second Largest element is: 25\n",
            "Second Smallest element is: 25\n"
          ]
        }
      ]
    },
    {
      "cell_type": "markdown",
      "source": [
        "Given a list of numbers of list, write a Python program to create a list of tuples\n",
        "having first element as the number and second element as the square of the\n",
        "num\n"
      ],
      "metadata": {
        "id": "aBXetiv9Bc03"
      }
    },
    {
      "cell_type": "code",
      "source": [
        "\n",
        "lowerlimit = int(input(\"Enter some random lower limit =\"))\n",
        "upperlimit = int(input(\"Enter some random lower limit =\"))\n",
        "\n",
        "listOfTuples = [(k, k**2) for k in range(lowerlimit, upperlimit+1)]\n",
        "\n",
        "print('The list of Tuples are : ', listOfTuples)"
      ],
      "metadata": {
        "colab": {
          "base_uri": "https://localhost:8080/"
        },
        "id": "0jXP6gwXDtnO",
        "outputId": "955b1337-c6f9-40c9-d9d6-f02691c27c84"
      },
      "execution_count": null,
      "outputs": [
        {
          "output_type": "stream",
          "name": "stdout",
          "text": [
            "Enter some random lower limit =5\n",
            "Enter some random lower limit =6\n",
            "The list of Tuples are :  [(5, 25), (6, 36)]\n"
          ]
        }
      ]
    },
    {
      "cell_type": "markdown",
      "source": [
        "Given list of tuples, remove all the tuples with length K.\n",
        "Input : test_list = [(4, 5), (4, ), (8, 6, 7), (1, ), (3, 4, 6, 7)], K = 2 \n"
      ],
      "metadata": {
        "id": "-5NVgMNoIg_s"
      }
    },
    {
      "cell_type": "code",
      "source": [
        "test_list = [(4, 5), (4, ), (8, 6, 7), (1, ), (3, 4, 6, 7)]\n",
        "print(\"The original list : \" + str(test_list)) \n",
        "K=1\n",
        "res = [ele for ele in test_list if len(ele) != K]\n",
        "print(\"Filtered list : \" + str(res))\n",
        "\n",
        "\n",
        "\n"
      ],
      "metadata": {
        "id": "9Kb2LiyUInzV",
        "colab": {
          "base_uri": "https://localhost:8080/"
        },
        "outputId": "0c26f63c-b239-4ce6-fc0f-b015c6eb7ea2"
      },
      "execution_count": 3,
      "outputs": [
        {
          "output_type": "stream",
          "name": "stdout",
          "text": [
            "The original list : [(4, 5), (4,), (8, 6, 7), (1,), (3, 4, 6, 7)]\n",
            "Filtered list : [(4, 5), (8, 6, 7), (3, 4, 6, 7)]\n"
          ]
        }
      ]
    },
    {
      "cell_type": "code",
      "source": [
        "yellow = {'amruth':1,'dhulipalla':2,'a1':3,'d2':4}\n",
        "print(yellow)\n",
        "if 'amruth' in yellow: \n",
        "    del yellow['amruth']\n",
        "print(yellow)"
      ],
      "metadata": {
        "colab": {
          "base_uri": "https://localhost:8080/"
        },
        "id": "SbSgNenZsgMH",
        "outputId": "b3d15ec9-65af-4711-e5f1-672b15811491"
      },
      "execution_count": 5,
      "outputs": [
        {
          "output_type": "stream",
          "name": "stdout",
          "text": [
            "{'amruth': 1, 'dhulipalla': 2, 'a1': 3, 'd2': 4}\n",
            "{'dhulipalla': 2, 'a1': 3, 'd2': 4}\n"
          ]
        }
      ]
    },
    {
      "cell_type": "code",
      "source": [
        "amruth=int(input(\"Input a number \"))\n",
        "dhulipalla = dict()\n",
        "for x in range(1,amruth+1):\n",
        "    dhulipalla[x]=x*x\n",
        "print(dhulipalla)\n"
      ],
      "metadata": {
        "colab": {
          "base_uri": "https://localhost:8080/"
        },
        "id": "Ec9tbrg7tKNr",
        "outputId": "d1900731-52f9-468b-e736-c5d6bbf5853c"
      },
      "execution_count": 8,
      "outputs": [
        {
          "output_type": "stream",
          "name": "stdout",
          "text": [
            "Input a number 5\n",
            "{1: 1, 2: 4, 3: 9, 4: 16, 5: 25}\n"
          ]
        }
      ]
    },
    {
      "cell_type": "code",
      "source": [
        "amruth= {234,567,876,987}\n",
        "print(max(amruth))\n",
        "print(min(amruth))"
      ],
      "metadata": {
        "colab": {
          "base_uri": "https://localhost:8080/"
        },
        "id": "k_dV6Ar2tn7V",
        "outputId": "e28ae870-2e6c-451e-d6a0-767438d8c7c9"
      },
      "execution_count": 10,
      "outputs": [
        {
          "output_type": "stream",
          "name": "stdout",
          "text": [
            "987\n",
            "234\n"
          ]
        }
      ]
    },
    {
      "cell_type": "code",
      "source": [
        "amruth= \"amruth dhulipalla\"\n",
        "print(amruth.split())\n",
        "print(amruth[3:8])"
      ],
      "metadata": {
        "colab": {
          "base_uri": "https://localhost:8080/"
        },
        "id": "RXHnc7tLt-Oc",
        "outputId": "1b4c967a-97fc-4b4a-d470-0afd53d22f5f"
      },
      "execution_count": 12,
      "outputs": [
        {
          "output_type": "stream",
          "name": "stdout",
          "text": [
            "['amruth', 'dhulipalla']\n",
            "uth d\n"
          ]
        }
      ]
    },
    {
      "cell_type": "code",
      "source": [
        "prajwal= \"thinking about you \"\n",
        "print(prajwal.count(\"i\"))"
      ],
      "metadata": {
        "colab": {
          "base_uri": "https://localhost:8080/"
        },
        "id": "qTCQRT_kuKP-",
        "outputId": "8089c3d9-57cb-419a-c02d-bdf6c8e76bb6"
      },
      "execution_count": 13,
      "outputs": [
        {
          "output_type": "stream",
          "name": "stdout",
          "text": [
            "2\n"
          ]
        }
      ]
    },
    {
      "cell_type": "code",
      "source": [
        "amruth=\"ssongs\"\n",
        "print (amruth.replace(\"s\" , \"o\" ))"
      ],
      "metadata": {
        "colab": {
          "base_uri": "https://localhost:8080/"
        },
        "id": "T5k8AWTauZi0",
        "outputId": "d69769dc-6920-421c-d454-150e931c93d3"
      },
      "execution_count": 14,
      "outputs": [
        {
          "output_type": "stream",
          "name": "stdout",
          "text": [
            "ooongo\n"
          ]
        }
      ]
    },
    {
      "cell_type": "code",
      "source": [
        "import random\n",
        "amruth=input(\"enter the command \")\n",
        "if \"rollno\"==amruth:\n",
        "    for x in range(6):\n",
        "        amruth=random.randint(1,6)\n",
        "        print(amruth)"
      ],
      "metadata": {
        "colab": {
          "base_uri": "https://localhost:8080/"
        },
        "id": "G-eUMBwqvdPg",
        "outputId": "f8ab65d0-fa47-4567-b222-bfb2ffb2fdad"
      },
      "execution_count": 17,
      "outputs": [
        {
          "name": "stdout",
          "output_type": "stream",
          "text": [
            "enter the command 4\n"
          ]
        }
      ]
    },
    {
      "cell_type": "code",
      "source": [
        "def string(amruth):\n",
        "    u=0;l=0\n",
        "    for x in amruth:\n",
        "        if x.isupper():\n",
        "           u=u+1\n",
        "        else:\n",
        "           l=l+1\n",
        "    print(\"the lower values\", l)\n",
        "    print(\"the upper values\", u)\n",
        "\n",
        "string(\"AmRUtH\")"
      ],
      "metadata": {
        "colab": {
          "base_uri": "https://localhost:8080/"
        },
        "id": "r5ti93ZGv0la",
        "outputId": "0cc472c1-fb23-4a06-b615-7e91a5d30f1c"
      },
      "execution_count": 18,
      "outputs": [
        {
          "output_type": "stream",
          "name": "stdout",
          "text": [
            "the lower values 2\n",
            "the upper values 4\n"
          ]
        }
      ]
    },
    {
      "cell_type": "code",
      "source": [
        "a=['sgh', 'hgd', 'huj', 'y767' ]\n",
        "c=0\n",
        "for x in a :\n",
        "    if len(x)>=2:\n",
        "        if x[0]==x[-1]:\n",
        "            c=c+1\n",
        "print(\"the string of length 2 is\",c)"
      ],
      "metadata": {
        "colab": {
          "base_uri": "https://localhost:8080/"
        },
        "id": "SGMbSJ54wLoa",
        "outputId": "d14590ac-f257-4131-f179-2364093bbfc6"
      },
      "execution_count": 19,
      "outputs": [
        {
          "output_type": "stream",
          "name": "stdout",
          "text": [
            "the string of length 2 is 0\n"
          ]
        }
      ]
    }
  ]
}